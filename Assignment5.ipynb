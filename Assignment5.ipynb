{
 "cells": [
  {
   "cell_type": "code",
   "execution_count": 1,
   "metadata": {},
   "outputs": [],
   "source": [
    "#import libraries and load the dataset\n",
    "\n",
    "import pandas as pd\n",
    "import matplotlib as plt\n",
    "import numpy as np\n",
    "\n",
    "df_joan =pd.read_csv('pima-indians-diabetes.csv')\n",
    "df_joan.columns = ['preg','plas','pres', 'skin', 'test', 'mass', 'pedi', 'age', 'class']\n"
   ]
  },
  {
   "cell_type": "code",
   "execution_count": 2,
   "metadata": {},
   "outputs": [
    {
     "data": {
      "text/plain": [
       "preg     0\n",
       "plas     0\n",
       "pres     0\n",
       "skin     0\n",
       "test     0\n",
       "mass     0\n",
       "pedi     0\n",
       "age      0\n",
       "class    0\n",
       "dtype: int64"
      ]
     },
     "execution_count": 2,
     "metadata": {},
     "output_type": "execute_result"
    }
   ],
   "source": [
    "#3.a check the missing value\n",
    "df_joan.isnull().sum()"
   ]
  },
  {
   "cell_type": "code",
   "execution_count": 3,
   "metadata": {},
   "outputs": [
    {
     "name": "stdout",
     "output_type": "stream",
     "text": [
      "<class 'pandas.core.frame.DataFrame'>\n",
      "RangeIndex: 767 entries, 0 to 766\n",
      "Data columns (total 9 columns):\n",
      " #   Column  Non-Null Count  Dtype  \n",
      "---  ------  --------------  -----  \n",
      " 0   preg    767 non-null    int64  \n",
      " 1   plas    767 non-null    int64  \n",
      " 2   pres    767 non-null    int64  \n",
      " 3   skin    767 non-null    int64  \n",
      " 4   test    767 non-null    int64  \n",
      " 5   mass    767 non-null    float64\n",
      " 6   pedi    767 non-null    float64\n",
      " 7   age     767 non-null    int64  \n",
      " 8   class   767 non-null    int64  \n",
      "dtypes: float64(2), int64(7)\n",
      "memory usage: 54.1 KB\n"
     ]
    }
   ],
   "source": [
    "df_joan.info()"
   ]
  },
  {
   "cell_type": "code",
   "execution_count": 4,
   "metadata": {},
   "outputs": [
    {
     "data": {
      "text/html": [
       "<div>\n",
       "<style scoped>\n",
       "    .dataframe tbody tr th:only-of-type {\n",
       "        vertical-align: middle;\n",
       "    }\n",
       "\n",
       "    .dataframe tbody tr th {\n",
       "        vertical-align: top;\n",
       "    }\n",
       "\n",
       "    .dataframe thead th {\n",
       "        text-align: right;\n",
       "    }\n",
       "</style>\n",
       "<table border=\"1\" class=\"dataframe\">\n",
       "  <thead>\n",
       "    <tr style=\"text-align: right;\">\n",
       "      <th></th>\n",
       "      <th>preg</th>\n",
       "      <th>plas</th>\n",
       "      <th>pres</th>\n",
       "      <th>skin</th>\n",
       "      <th>test</th>\n",
       "      <th>mass</th>\n",
       "      <th>pedi</th>\n",
       "      <th>age</th>\n",
       "      <th>class</th>\n",
       "    </tr>\n",
       "  </thead>\n",
       "  <tbody>\n",
       "    <tr>\n",
       "      <th>count</th>\n",
       "      <td>767.000000</td>\n",
       "      <td>767.000000</td>\n",
       "      <td>767.000000</td>\n",
       "      <td>767.000000</td>\n",
       "      <td>767.000000</td>\n",
       "      <td>767.000000</td>\n",
       "      <td>767.000000</td>\n",
       "      <td>767.000000</td>\n",
       "      <td>767.000000</td>\n",
       "    </tr>\n",
       "    <tr>\n",
       "      <th>mean</th>\n",
       "      <td>3.842243</td>\n",
       "      <td>120.859192</td>\n",
       "      <td>69.101695</td>\n",
       "      <td>20.517601</td>\n",
       "      <td>79.903520</td>\n",
       "      <td>31.990482</td>\n",
       "      <td>0.471674</td>\n",
       "      <td>33.219035</td>\n",
       "      <td>0.348110</td>\n",
       "    </tr>\n",
       "    <tr>\n",
       "      <th>std</th>\n",
       "      <td>3.370877</td>\n",
       "      <td>31.978468</td>\n",
       "      <td>19.368155</td>\n",
       "      <td>15.954059</td>\n",
       "      <td>115.283105</td>\n",
       "      <td>7.889091</td>\n",
       "      <td>0.331497</td>\n",
       "      <td>11.752296</td>\n",
       "      <td>0.476682</td>\n",
       "    </tr>\n",
       "    <tr>\n",
       "      <th>min</th>\n",
       "      <td>0.000000</td>\n",
       "      <td>0.000000</td>\n",
       "      <td>0.000000</td>\n",
       "      <td>0.000000</td>\n",
       "      <td>0.000000</td>\n",
       "      <td>0.000000</td>\n",
       "      <td>0.078000</td>\n",
       "      <td>21.000000</td>\n",
       "      <td>0.000000</td>\n",
       "    </tr>\n",
       "    <tr>\n",
       "      <th>25%</th>\n",
       "      <td>1.000000</td>\n",
       "      <td>99.000000</td>\n",
       "      <td>62.000000</td>\n",
       "      <td>0.000000</td>\n",
       "      <td>0.000000</td>\n",
       "      <td>27.300000</td>\n",
       "      <td>0.243500</td>\n",
       "      <td>24.000000</td>\n",
       "      <td>0.000000</td>\n",
       "    </tr>\n",
       "    <tr>\n",
       "      <th>50%</th>\n",
       "      <td>3.000000</td>\n",
       "      <td>117.000000</td>\n",
       "      <td>72.000000</td>\n",
       "      <td>23.000000</td>\n",
       "      <td>32.000000</td>\n",
       "      <td>32.000000</td>\n",
       "      <td>0.371000</td>\n",
       "      <td>29.000000</td>\n",
       "      <td>0.000000</td>\n",
       "    </tr>\n",
       "    <tr>\n",
       "      <th>75%</th>\n",
       "      <td>6.000000</td>\n",
       "      <td>140.000000</td>\n",
       "      <td>80.000000</td>\n",
       "      <td>32.000000</td>\n",
       "      <td>127.500000</td>\n",
       "      <td>36.600000</td>\n",
       "      <td>0.625000</td>\n",
       "      <td>41.000000</td>\n",
       "      <td>1.000000</td>\n",
       "    </tr>\n",
       "    <tr>\n",
       "      <th>max</th>\n",
       "      <td>17.000000</td>\n",
       "      <td>199.000000</td>\n",
       "      <td>122.000000</td>\n",
       "      <td>99.000000</td>\n",
       "      <td>846.000000</td>\n",
       "      <td>67.100000</td>\n",
       "      <td>2.420000</td>\n",
       "      <td>81.000000</td>\n",
       "      <td>1.000000</td>\n",
       "    </tr>\n",
       "  </tbody>\n",
       "</table>\n",
       "</div>"
      ],
      "text/plain": [
       "             preg        plas        pres        skin        test        mass  \\\n",
       "count  767.000000  767.000000  767.000000  767.000000  767.000000  767.000000   \n",
       "mean     3.842243  120.859192   69.101695   20.517601   79.903520   31.990482   \n",
       "std      3.370877   31.978468   19.368155   15.954059  115.283105    7.889091   \n",
       "min      0.000000    0.000000    0.000000    0.000000    0.000000    0.000000   \n",
       "25%      1.000000   99.000000   62.000000    0.000000    0.000000   27.300000   \n",
       "50%      3.000000  117.000000   72.000000   23.000000   32.000000   32.000000   \n",
       "75%      6.000000  140.000000   80.000000   32.000000  127.500000   36.600000   \n",
       "max     17.000000  199.000000  122.000000   99.000000  846.000000   67.100000   \n",
       "\n",
       "             pedi         age       class  \n",
       "count  767.000000  767.000000  767.000000  \n",
       "mean     0.471674   33.219035    0.348110  \n",
       "std      0.331497   11.752296    0.476682  \n",
       "min      0.078000   21.000000    0.000000  \n",
       "25%      0.243500   24.000000    0.000000  \n",
       "50%      0.371000   29.000000    0.000000  \n",
       "75%      0.625000   41.000000    1.000000  \n",
       "max      2.420000   81.000000    1.000000  "
      ]
     },
     "execution_count": 4,
     "metadata": {},
     "output_type": "execute_result"
    }
   ],
   "source": [
    "#check the statistics of the numeric fields\n",
    "df_joan.describe()"
   ]
  },
  {
   "cell_type": "code",
   "execution_count": 5,
   "metadata": {},
   "outputs": [
    {
     "data": {
      "text/plain": [
       "class\n",
       "0    500\n",
       "1    267\n",
       "Name: count, dtype: int64"
      ]
     },
     "execution_count": 5,
     "metadata": {},
     "output_type": "execute_result"
    }
   ],
   "source": [
    "df_joan['class'].value_counts()"
   ]
  },
  {
   "cell_type": "code",
   "execution_count": 6,
   "metadata": {},
   "outputs": [],
   "source": [
    "# 4. Prepare a standard scaler transformer to transform all the numeric values\n",
    "\n",
    "from sklearn.preprocessing import StandardScaler\n",
    "from sklearn.model_selection import train_test_split\n",
    "\n",
    "#prepare transformers and/or pipeline\n",
    "transformer_joan = StandardScaler()\n",
    "\n",
    "#separate the target from the features\n",
    "features = df_joan.drop(columns='class', axis =1)\n",
    "target = df_joan['class']\n",
    "\n",
    "#split the train and test\n",
    "X_train_joan, X_test_joan, y_train_joan, y_test_joan = train_test_split(features,target,test_size=0.3, random_state=42)\n",
    "\n",
    "#fit the train dataset to the transformer\n",
    "X_trans_train_joan= transformer_joan.fit_transform(X_train_joan)\n",
    "X_trans_test_joan = transformer_joan.fit_transform(X_test_joan)\n"
   ]
  },
  {
   "cell_type": "code",
   "execution_count": 7,
   "metadata": {},
   "outputs": [],
   "source": [
    "#Define 5 classifiers\n",
    "\n",
    "from sklearn.linear_model import LogisticRegression\n",
    "from sklearn.ensemble import VotingClassifier, RandomForestClassifier, ExtraTreesClassifier\n",
    "from sklearn.svm import SVC\n",
    "from sklearn.tree import DecisionTreeClassifier\n",
    "\n",
    "logreg_J = LogisticRegression(max_iter = 1400)\n",
    "rf_J = RandomForestClassifier()\n",
    "svm_J = SVC()\n",
    "dtree_J = DecisionTreeClassifier(criterion = \"entropy\", max_depth = 42)\n",
    "etrees_J = ExtraTreesClassifier()\n",
    "\n",
    "\n",
    "voting_clf_J = VotingClassifier(estimators=[('LR', logreg_J), ('RF', rf_J), ('SVM', svm_J), ('DT', dtree_J), ('ET', etrees_J)], voting='hard')\n"
   ]
  },
  {
   "cell_type": "code",
   "execution_count": 8,
   "metadata": {},
   "outputs": [
    {
     "name": "stdout",
     "output_type": "stream",
     "text": [
      "Prediction [0 0 0]\n",
      "Actual [0 0 0]\n"
     ]
    }
   ],
   "source": [
    "#fit, predict & print predictions\n",
    "\n",
    "voting_clf_J.fit(X_trans_train_joan,y_train_joan)\n",
    "predictions = voting_clf_J.predict(X_trans_test_joan[:3])\n",
    "\n",
    "print(\"Prediction\", predictions)\n",
    "print(\"Actual\", y_test_joan[:3].values)\n"
   ]
  },
  {
   "cell_type": "code",
   "execution_count": 9,
   "metadata": {},
   "outputs": [
    {
     "name": "stdout",
     "output_type": "stream",
     "text": [
      "LogisticRegression(max_iter=1400)\n",
      "Prediction [0 0 0]\n",
      "Actual [0 0 0]\n",
      "\n",
      "\n",
      "RandomForestClassifier()\n",
      "Prediction [0 0 0]\n",
      "Actual [0 0 0]\n",
      "\n",
      "\n",
      "SVC()\n",
      "Prediction [0 0 0]\n",
      "Actual [0 0 0]\n",
      "\n",
      "\n",
      "DecisionTreeClassifier(criterion='entropy', max_depth=42)\n",
      "Prediction [1 1 0]\n",
      "Actual [0 0 0]\n",
      "\n",
      "\n",
      "ExtraTreesClassifier()\n",
      "Prediction [0 0 0]\n",
      "Actual [0 0 0]\n",
      "\n",
      "\n"
     ]
    }
   ],
   "source": [
    "classifier = [logreg_J, rf_J, svm_J,dtree_J,etrees_J]\n",
    "\n",
    "for clf in classifier:\n",
    "    clf.fit(X_trans_train_joan, y_train_joan)\n",
    "    predictions = clf.predict(X_trans_test_joan[:3])\n",
    "    print(clf)\n",
    "    print(\"Prediction\", predictions)\n",
    "    print(\"Actual\", y_test_joan[:3].values)\n",
    "    print(\"\\n\")"
   ]
  },
  {
   "cell_type": "code",
   "execution_count": 10,
   "metadata": {},
   "outputs": [],
   "source": [
    "from sklearn.linear_model import LogisticRegression\n",
    "from sklearn.ensemble import RandomForestClassifier, ExtraTreesClassifier, VotingClassifier\n",
    "from sklearn.svm import SVC\n",
    "from sklearn.tree import DecisionTreeClassifier\n",
    "\n",
    "# a. Logistic Regression (supports probabilities by default)\n",
    "logreg_J = LogisticRegression(max_iter=1400)\n",
    "\n",
    "# b. Random Forest Classifier (supports probabilities by default)\n",
    "rf_J = RandomForestClassifier()\n",
    "\n",
    "# c. Support Vector Machines (need to set probability=True)\n",
    "svm_J = SVC(probability=True)\n",
    "\n",
    "# d. Decision Tree Classifier (supports probabilities by default)\n",
    "dtree_J = DecisionTreeClassifier(criterion=\"entropy\", max_depth=42)\n",
    "\n",
    "# e. Extra Trees Classifier (supports probabilities by default)\n",
    "etrees_J = ExtraTreesClassifier()\n",
    "\n",
    "# Define a voting classifier for soft voting\n",
    "voting_clf_soft_J = VotingClassifier(estimators=[('LR', logreg_J), ('RF', rf_J), ('SVM', svm_J), ('DT', dtree_J), ('ET', etrees_J)], voting='soft')\n"
   ]
  },
  {
   "cell_type": "code",
   "execution_count": 11,
   "metadata": {},
   "outputs": [
    {
     "name": "stdout",
     "output_type": "stream",
     "text": [
      "Prediction [0 0 0]\n",
      "Actual [0 0 0]\n"
     ]
    }
   ],
   "source": [
    "#fit, predict & print predictions\n",
    "\n",
    "voting_clf_soft_J.fit(X_trans_train_joan,y_train_joan)\n",
    "predictions = voting_clf_soft_J.predict(X_trans_test_joan[:3])\n",
    "\n",
    "print(\"Prediction\", predictions)\n",
    "print(\"Actual\", y_test_joan[:3].values)"
   ]
  },
  {
   "cell_type": "markdown",
   "metadata": {},
   "source": [
    "<h3> Exercise 3 <h3>"
   ]
  },
  {
   "cell_type": "code",
   "execution_count": 12,
   "metadata": {},
   "outputs": [],
   "source": [
    "#create a pipeline\n",
    "from sklearn.pipeline import Pipeline\n",
    "pipeline1_joan = Pipeline([\n",
    "    ('preprocessor',transformer_joan ),\n",
    "    ('classifier', etrees_J )\n",
    "])\n",
    "\n",
    "pipeline2_joan = Pipeline([\n",
    "    ('preprocessor',transformer_joan ),\n",
    "    ('classifier', dtree_J)\n",
    "])"
   ]
  },
  {
   "cell_type": "code",
   "execution_count": 13,
   "metadata": {},
   "outputs": [
    {
     "data": {
      "text/html": [
       "<style>#sk-container-id-1 {color: black;}#sk-container-id-1 pre{padding: 0;}#sk-container-id-1 div.sk-toggleable {background-color: white;}#sk-container-id-1 label.sk-toggleable__label {cursor: pointer;display: block;width: 100%;margin-bottom: 0;padding: 0.3em;box-sizing: border-box;text-align: center;}#sk-container-id-1 label.sk-toggleable__label-arrow:before {content: \"▸\";float: left;margin-right: 0.25em;color: #696969;}#sk-container-id-1 label.sk-toggleable__label-arrow:hover:before {color: black;}#sk-container-id-1 div.sk-estimator:hover label.sk-toggleable__label-arrow:before {color: black;}#sk-container-id-1 div.sk-toggleable__content {max-height: 0;max-width: 0;overflow: hidden;text-align: left;background-color: #f0f8ff;}#sk-container-id-1 div.sk-toggleable__content pre {margin: 0.2em;color: black;border-radius: 0.25em;background-color: #f0f8ff;}#sk-container-id-1 input.sk-toggleable__control:checked~div.sk-toggleable__content {max-height: 200px;max-width: 100%;overflow: auto;}#sk-container-id-1 input.sk-toggleable__control:checked~label.sk-toggleable__label-arrow:before {content: \"▾\";}#sk-container-id-1 div.sk-estimator input.sk-toggleable__control:checked~label.sk-toggleable__label {background-color: #d4ebff;}#sk-container-id-1 div.sk-label input.sk-toggleable__control:checked~label.sk-toggleable__label {background-color: #d4ebff;}#sk-container-id-1 input.sk-hidden--visually {border: 0;clip: rect(1px 1px 1px 1px);clip: rect(1px, 1px, 1px, 1px);height: 1px;margin: -1px;overflow: hidden;padding: 0;position: absolute;width: 1px;}#sk-container-id-1 div.sk-estimator {font-family: monospace;background-color: #f0f8ff;border: 1px dotted black;border-radius: 0.25em;box-sizing: border-box;margin-bottom: 0.5em;}#sk-container-id-1 div.sk-estimator:hover {background-color: #d4ebff;}#sk-container-id-1 div.sk-parallel-item::after {content: \"\";width: 100%;border-bottom: 1px solid gray;flex-grow: 1;}#sk-container-id-1 div.sk-label:hover label.sk-toggleable__label {background-color: #d4ebff;}#sk-container-id-1 div.sk-serial::before {content: \"\";position: absolute;border-left: 1px solid gray;box-sizing: border-box;top: 0;bottom: 0;left: 50%;z-index: 0;}#sk-container-id-1 div.sk-serial {display: flex;flex-direction: column;align-items: center;background-color: white;padding-right: 0.2em;padding-left: 0.2em;position: relative;}#sk-container-id-1 div.sk-item {position: relative;z-index: 1;}#sk-container-id-1 div.sk-parallel {display: flex;align-items: stretch;justify-content: center;background-color: white;position: relative;}#sk-container-id-1 div.sk-item::before, #sk-container-id-1 div.sk-parallel-item::before {content: \"\";position: absolute;border-left: 1px solid gray;box-sizing: border-box;top: 0;bottom: 0;left: 50%;z-index: -1;}#sk-container-id-1 div.sk-parallel-item {display: flex;flex-direction: column;z-index: 1;position: relative;background-color: white;}#sk-container-id-1 div.sk-parallel-item:first-child::after {align-self: flex-end;width: 50%;}#sk-container-id-1 div.sk-parallel-item:last-child::after {align-self: flex-start;width: 50%;}#sk-container-id-1 div.sk-parallel-item:only-child::after {width: 0;}#sk-container-id-1 div.sk-dashed-wrapped {border: 1px dashed gray;margin: 0 0.4em 0.5em 0.4em;box-sizing: border-box;padding-bottom: 0.4em;background-color: white;}#sk-container-id-1 div.sk-label label {font-family: monospace;font-weight: bold;display: inline-block;line-height: 1.2em;}#sk-container-id-1 div.sk-label-container {text-align: center;}#sk-container-id-1 div.sk-container {/* jupyter's `normalize.less` sets `[hidden] { display: none; }` but bootstrap.min.css set `[hidden] { display: none !important; }` so we also need the `!important` here to be able to override the default hidden behavior on the sphinx rendered scikit-learn.org. See: https://github.com/scikit-learn/scikit-learn/issues/21755 */display: inline-block !important;position: relative;}#sk-container-id-1 div.sk-text-repr-fallback {display: none;}</style><div id=\"sk-container-id-1\" class=\"sk-top-container\"><div class=\"sk-text-repr-fallback\"><pre>Pipeline(steps=[(&#x27;preprocessor&#x27;, StandardScaler()),\n",
       "                (&#x27;classifier&#x27;,\n",
       "                 DecisionTreeClassifier(criterion=&#x27;entropy&#x27;, max_depth=42))])</pre><b>In a Jupyter environment, please rerun this cell to show the HTML representation or trust the notebook. <br />On GitHub, the HTML representation is unable to render, please try loading this page with nbviewer.org.</b></div><div class=\"sk-container\" hidden><div class=\"sk-item sk-dashed-wrapped\"><div class=\"sk-label-container\"><div class=\"sk-label sk-toggleable\"><input class=\"sk-toggleable__control sk-hidden--visually\" id=\"sk-estimator-id-1\" type=\"checkbox\" ><label for=\"sk-estimator-id-1\" class=\"sk-toggleable__label sk-toggleable__label-arrow\">Pipeline</label><div class=\"sk-toggleable__content\"><pre>Pipeline(steps=[(&#x27;preprocessor&#x27;, StandardScaler()),\n",
       "                (&#x27;classifier&#x27;,\n",
       "                 DecisionTreeClassifier(criterion=&#x27;entropy&#x27;, max_depth=42))])</pre></div></div></div><div class=\"sk-serial\"><div class=\"sk-item\"><div class=\"sk-estimator sk-toggleable\"><input class=\"sk-toggleable__control sk-hidden--visually\" id=\"sk-estimator-id-2\" type=\"checkbox\" ><label for=\"sk-estimator-id-2\" class=\"sk-toggleable__label sk-toggleable__label-arrow\">StandardScaler</label><div class=\"sk-toggleable__content\"><pre>StandardScaler()</pre></div></div></div><div class=\"sk-item\"><div class=\"sk-estimator sk-toggleable\"><input class=\"sk-toggleable__control sk-hidden--visually\" id=\"sk-estimator-id-3\" type=\"checkbox\" ><label for=\"sk-estimator-id-3\" class=\"sk-toggleable__label sk-toggleable__label-arrow\">DecisionTreeClassifier</label><div class=\"sk-toggleable__content\"><pre>DecisionTreeClassifier(criterion=&#x27;entropy&#x27;, max_depth=42)</pre></div></div></div></div></div></div></div>"
      ],
      "text/plain": [
       "Pipeline(steps=[('preprocessor', StandardScaler()),\n",
       "                ('classifier',\n",
       "                 DecisionTreeClassifier(criterion='entropy', max_depth=42))])"
      ]
     },
     "execution_count": 13,
     "metadata": {},
     "output_type": "execute_result"
    }
   ],
   "source": [
    "#fiting the pipeline\n",
    "pipeline1_joan.fit(X_train_joan,y_train_joan)\n",
    "pipeline2_joan.fit(X_train_joan,y_train_joan)"
   ]
  },
  {
   "cell_type": "code",
   "execution_count": 14,
   "metadata": {},
   "outputs": [
    {
     "name": "stdout",
     "output_type": "stream",
     "text": [
      "Mean CV Score - Pipeline 1 (Extra Trees): 0.7589098532494758\n",
      "Mean CV Score - Pipeline 2 (Decision Tree): 0.669601677148847\n"
     ]
    }
   ],
   "source": [
    "#evaluate the accuracy score in training data\n",
    "from sklearn.model_selection import cross_val_score,KFold\n",
    "\n",
    "kf = KFold(n_splits =10, shuffle = True, random_state =42)\n",
    "scores_pipeline1 = cross_val_score(pipeline1_joan, X_train_joan, y_train_joan, cv=kf)\n",
    "scores_pipeline2 = cross_val_score(pipeline2_joan, X_train_joan, y_train_joan, cv=kf)\n",
    "\n",
    "print(\"Mean CV Score - Pipeline 1 (Extra Trees):\", scores_pipeline1.mean())\n",
    "print(\"Mean CV Score - Pipeline 2 (Decision Tree):\", scores_pipeline2.mean())"
   ]
  },
  {
   "cell_type": "code",
   "execution_count": 15,
   "metadata": {},
   "outputs": [
    {
     "name": "stdout",
     "output_type": "stream",
     "text": [
      "Accuracy: 0.7705627705627706\n",
      "Precision: 0.684931506849315\n",
      "Recall: 0.625\n",
      "Confusion Matrix:\n",
      " [[128  23]\n",
      " [ 30  50]]\n"
     ]
    }
   ],
   "source": [
    "# getting the perfromance matrix o\n",
    "from sklearn.metrics import accuracy_score, precision_score, recall_score, confusion_matrix\n",
    "\n",
    "y_pred_grid_joan = pipeline1_joan.predict(X_test_joan)\n",
    "accuracy = accuracy_score(y_test_joan,y_pred_grid_joan)\n",
    "precision = precision_score(y_test_joan, y_pred_grid_joan)\n",
    "recall = recall_score(y_test_joan, y_pred_grid_joan)\n",
    "conf_matrix = confusion_matrix(y_test_joan, y_pred_grid_joan)\n",
    "print(\"Accuracy:\", accuracy)\n",
    "print(\"Precision:\", precision)\n",
    "print(\"Recall:\", recall)\n",
    "print(\"Confusion Matrix:\\n\", conf_matrix)\n",
    "\n"
   ]
  },
  {
   "cell_type": "code",
   "execution_count": 16,
   "metadata": {},
   "outputs": [
    {
     "name": "stdout",
     "output_type": "stream",
     "text": [
      "Accuracy: 0.696969696969697\n",
      "Precision: 0.5581395348837209\n",
      "Recall: 0.6\n",
      "Confusion Matrix:\n",
      " [[113  38]\n",
      " [ 32  48]]\n"
     ]
    }
   ],
   "source": [
    "#perfomance matrix of pipeline2\n",
    "from sklearn.metrics import accuracy_score, precision_score, recall_score, confusion_matrix\n",
    "\n",
    "y_pred_grid_joan = pipeline2_joan.predict(X_test_joan)\n",
    "accuracy = accuracy_score(y_test_joan,y_pred_grid_joan)\n",
    "precision = precision_score(y_test_joan, y_pred_grid_joan)\n",
    "recall = recall_score(y_test_joan, y_pred_grid_joan)\n",
    "conf_matrix = confusion_matrix(y_test_joan, y_pred_grid_joan)\n",
    "print(\"Accuracy:\", accuracy)\n",
    "print(\"Precision:\", precision)\n",
    "print(\"Recall:\", recall)\n",
    "print(\"Confusion Matrix:\\n\", conf_matrix)"
   ]
  },
  {
   "cell_type": "markdown",
   "metadata": {},
   "source": []
  },
  {
   "cell_type": "markdown",
   "metadata": {},
   "source": [
    "<h3> Exercise 4"
   ]
  },
  {
   "cell_type": "code",
   "execution_count": 17,
   "metadata": {},
   "outputs": [
    {
     "name": "stdout",
     "output_type": "stream",
     "text": [
      "Best parameters: {'classifier__min_samples_split': 370, 'classifier__max_depth': 207}\n",
      "Grid search score: 0.6511249567324333\n",
      "Best estimator: Pipeline(steps=[('preprocessor', StandardScaler()),\n",
      "                ('classifier',\n",
      "                 ExtraTreesClassifier(max_depth=207, min_samples_split=370))])\n"
     ]
    }
   ],
   "source": [
    "#Fine tuning\n",
    "from sklearn.model_selection import RandomizedSearchCV\n",
    "\n",
    "parameters = {\n",
    "    'classifier__min_samples_split': range(10, 3000, 20),\n",
    "    'classifier__max_depth': range(1, 1000, 2),\n",
    "    \n",
    "}\n",
    "\n",
    "grid_search_94= RandomizedSearchCV(estimator=pipeline1_joan,\n",
    "                                      param_distributions=parameters,\n",
    "                                      scoring='accuracy',\n",
    "                                  \n",
    "                                      )\n",
    "\n",
    "grid_search_94.fit(X_train_joan,y_train_joan)\n",
    "\n",
    "\n",
    "\n",
    "print(\"Best parameters:\", grid_search_94.best_params_)\n",
    "\n",
    "# Step 23: Print score of the model\n",
    "print(\"Grid search score:\", grid_search_94.best_score_)\n",
    "# Compare with original score from Step 14 and explain differences\n",
    "\n",
    "# Step 24: Print best estimator\n",
    "best_estimator_joan = grid_search_94.best_estimator_\n",
    "print(\"Best estimator:\", best_estimator_joan)"
   ]
  },
  {
   "cell_type": "code",
   "execution_count": 18,
   "metadata": {},
   "outputs": [
    {
     "name": "stdout",
     "output_type": "stream",
     "text": [
      "Accuracy: 0.6666666666666666\n",
      "Precision: 0.8\n",
      "Recall: 0.05\n",
      "Confusion Matrix:\n",
      " [[150   1]\n",
      " [ 76   4]]\n"
     ]
    }
   ],
   "source": [
    "best_estimator_joan.fit(X_train_joan, y_train_joan)\n",
    "y_pred_grid_joan = best_estimator_joan.predict(X_test_joan)\n",
    "\n",
    "accuracy = accuracy_score(y_test_joan, y_pred_grid_joan)\n",
    "precision = precision_score(y_test_joan, y_pred_grid_joan)\n",
    "recall = recall_score(y_test_joan, y_pred_grid_joan)\n",
    "conf_matrix = confusion_matrix(y_test_joan, y_pred_grid_joan)\n",
    "print(\"Accuracy:\", accuracy)\n",
    "print(\"Precision:\", precision)\n",
    "print(\"Recall:\", recall)\n",
    "print(\"Confusion Matrix:\\n\", conf_matrix)"
   ]
  },
  {
   "cell_type": "code",
   "execution_count": 19,
   "metadata": {},
   "outputs": [
    {
     "name": "stdout",
     "output_type": "stream",
     "text": [
      "Prediction [0 0 0 0 0 0 0 0 0 0 0 0 0 0 0 0 0 0 0 0 0 0 0 1 0 0 0 0 0 0 0 0 0 0 0 0 0\n",
      " 0 0 0 0 0 0 0 0 0 0 0 0 0]\n",
      "Actual [0 0 0 0 0 0 0 1 0 0 1 1 0 1 1 1 0 0 0 1 0 0 0 1 0 0 0 0 0 0 0 0 1 1 0 1 1\n",
      " 0 0 0 0 1 1 1 0 0 0 1 1 0]\n",
      "\n",
      "\n"
     ]
    }
   ],
   "source": [
    "predictions = best_estimator_joan.predict(X_test_joan[:50])\n",
    "\n",
    "print(\"Prediction\", predictions)\n",
    "print(\"Actual\", y_test_joan[:50].values)\n",
    "print(\"\\n\")"
   ]
  },
  {
   "cell_type": "code",
   "execution_count": 20,
   "metadata": {},
   "outputs": [
    {
     "name": "stdout",
     "output_type": "stream",
     "text": [
      "Training accuracy: 0.664179104477612\n",
      "Testing accuracy: 0.6666666666666666\n"
     ]
    }
   ],
   "source": [
    "#print accuracy score\n",
    "train_accuracy = best_estimator_joan.score(X_train_joan, y_train_joan)\n",
    "test_accuracy = best_estimator_joan.score(X_test_joan, y_test_joan)\n",
    "print(\"Training accuracy:\", train_accuracy)\n",
    "print(\"Testing accuracy:\", test_accuracy)"
   ]
  }
 ],
 "metadata": {
  "kernelspec": {
   "display_name": "base",
   "language": "python",
   "name": "python3"
  },
  "language_info": {
   "codemirror_mode": {
    "name": "ipython",
    "version": 3
   },
   "file_extension": ".py",
   "mimetype": "text/x-python",
   "name": "python",
   "nbconvert_exporter": "python",
   "pygments_lexer": "ipython3",
   "version": "3.11.5"
  }
 },
 "nbformat": 4,
 "nbformat_minor": 2
}
