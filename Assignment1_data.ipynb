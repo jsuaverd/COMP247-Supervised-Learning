{
 "cells": [
  {
   "cell_type": "markdown",
   "id": "2e430f4d",
   "metadata": {},
   "source": [
    "# Exercise 1"
   ]
  },
  {
   "cell_type": "markdown",
   "id": "a8b7dde9",
   "metadata": {},
   "source": [
    "## 1. Init from dict"
   ]
  },
  {
   "cell_type": "code",
   "execution_count": 119,
   "id": "f25541c0",
   "metadata": {},
   "outputs": [
    {
     "name": "stdout",
     "output_type": "stream",
     "text": [
      "orange    orange\n",
      "grapes    purple\n",
      "dtype: object\n"
     ]
    }
   ],
   "source": [
    "import pandas as pd\n",
    "joan_fruits = {\"apple\": \"red\", \"orange\": \"orange\", \"grapes\": \"purple\"}\n",
    "joan_f= pd.Series(joan_fruits)\n",
    "print(joan_f[1:3])\n",
    "\n"
   ]
  },
  {
   "cell_type": "code",
   "execution_count": 120,
   "id": "339f5125",
   "metadata": {},
   "outputs": [
    {
     "data": {
      "text/plain": [
       "orange    orange\n",
       "grapes    purple\n",
       "dtype: object"
      ]
     },
     "execution_count": 120,
     "metadata": {},
     "output_type": "execute_result"
    }
   ],
   "source": [
    "joan_f2 = joan_f[1:3]\n",
    "joan_f2.iloc[0:2]"
   ]
  },
  {
   "cell_type": "markdown",
   "id": "a175b587",
   "metadata": {},
   "source": [
    "## 2. handling time\n"
   ]
  },
  {
   "cell_type": "code",
   "execution_count": 121,
   "id": "1a45dfc6",
   "metadata": {},
   "outputs": [
    {
     "data": {
      "image/png": "[encoded data removed]",
      "text/plain": [
       "<Figure size 640x480 with 1 Axes>"
      ]
     },
     "metadata": {},
     "output_type": "display_data"
    }
   ],
   "source": [
    "\n",
    "import matplotlib.pyplot as plt\n",
    "joan_amounts = [10,23,24,30]\n",
    "dates = pd.date_range('2024/01/10 11:00pm', periods =4, freq = 'H')\n",
    "joan_rainfallamounts_today = pd.Series(joan_amounts,dates)\n",
    "joan_rainfallamounts_today.plot(kind = \"bar\")\n",
    "plt.grid(True)\n",
    "plt.show()\n"
   ]
  },
  {
   "cell_type": "markdown",
   "id": "280bcfeb",
   "metadata": {},
   "source": [
    "## 3. Pandas Multi - Indexing"
   ]
  },
  {
   "cell_type": "code",
   "execution_count": 122,
   "id": "4fcd2b9f",
   "metadata": {},
   "outputs": [
    {
     "data": {
      "text/html": [
       "<div>\n",
       "<style scoped>\n",
       "    .dataframe tbody tr th:only-of-type {\n",
       "        vertical-align: middle;\n",
       "    }\n",
       "\n",
       "    .dataframe tbody tr th {\n",
       "        vertical-align: top;\n",
       "    }\n",
       "\n",
       "    .dataframe thead th {\n",
       "        text-align: right;\n",
       "    }\n",
       "</style>\n",
       "<table border=\"1\" class=\"dataframe\">\n",
       "  <thead>\n",
       "    <tr style=\"text-align: right;\">\n",
       "      <th></th>\n",
       "      <th></th>\n",
       "      <th>weight</th>\n",
       "      <th>children</th>\n",
       "    </tr>\n",
       "  </thead>\n",
       "  <tbody>\n",
       "    <tr>\n",
       "      <th rowspan=\"2\" valign=\"top\">Paris</th>\n",
       "      <th>alice</th>\n",
       "      <td>68</td>\n",
       "      <td>NaN</td>\n",
       "    </tr>\n",
       "    <tr>\n",
       "      <th>bob</th>\n",
       "      <td>83</td>\n",
       "      <td>3.0</td>\n",
       "    </tr>\n",
       "    <tr>\n",
       "      <th>London</th>\n",
       "      <th>charles</th>\n",
       "      <td>112</td>\n",
       "      <td>0.0</td>\n",
       "    </tr>\n",
       "  </tbody>\n",
       "</table>\n",
       "</div>"
      ],
      "text/plain": [
       "                weight  children\n",
       "Paris  alice        68       NaN\n",
       "       bob          83       3.0\n",
       "London charles     112       0.0"
      ]
     },
     "execution_count": 122,
     "metadata": {},
     "output_type": "execute_result"
    }
   ],
   "source": [
    "\n",
    "import numpy as np\n",
    "\n",
    "joan_d5 = pd.DataFrame(\n",
    "  {\n",
    "    (\"public\", \"birthyear\"):\n",
    "        {(\"Paris\",\"alice\"):1985, (\"Paris\",\"bob\"): 1984, (\"London\",\"charles\"): 1992},\n",
    "    (\"public\", \"hobby\"):\n",
    "        {(\"Paris\",\"alice\"):\"Biking\", (\"Paris\",\"bob\"): \"Dancing\"},\n",
    "    (\"private\", \"weight\"):\n",
    "        {(\"Paris\",\"alice\"):68, (\"Paris\",\"bob\"): 83, (\"London\",\"charles\"): 112},\n",
    "    (\"private\", \"children\"):\n",
    "        {(\"Paris\", \"alice\"):np.nan, (\"Paris\",\"bob\"): 3, (\"London\",\"charles\"): 0}\n",
    "  }\n",
    ")\n",
    "\n",
    "joan_d5[\"private\"]\n"
   ]
  },
  {
   "cell_type": "code",
   "execution_count": 123,
   "id": "f04bd5b2",
   "metadata": {},
   "outputs": [
    {
     "data": {
      "text/html": [
       "<div>\n",
       "<style scoped>\n",
       "    .dataframe tbody tr th:only-of-type {\n",
       "        vertical-align: middle;\n",
       "    }\n",
       "\n",
       "    .dataframe tbody tr th {\n",
       "        vertical-align: top;\n",
       "    }\n",
       "\n",
       "    .dataframe thead tr th {\n",
       "        text-align: left;\n",
       "    }\n",
       "</style>\n",
       "<table border=\"1\" class=\"dataframe\">\n",
       "  <thead>\n",
       "    <tr>\n",
       "      <th></th>\n",
       "      <th></th>\n",
       "      <th colspan=\"2\" halign=\"left\">public</th>\n",
       "      <th colspan=\"2\" halign=\"left\">private</th>\n",
       "    </tr>\n",
       "    <tr>\n",
       "      <th></th>\n",
       "      <th></th>\n",
       "      <th>birthyear</th>\n",
       "      <th>hobby</th>\n",
       "      <th>weight</th>\n",
       "      <th>children</th>\n",
       "    </tr>\n",
       "  </thead>\n",
       "  <tbody>\n",
       "    <tr>\n",
       "      <th rowspan=\"2\" valign=\"top\">Paris</th>\n",
       "      <th>alice</th>\n",
       "      <td>1985</td>\n",
       "      <td>Biking</td>\n",
       "      <td>68</td>\n",
       "      <td>NaN</td>\n",
       "    </tr>\n",
       "    <tr>\n",
       "      <th>bob</th>\n",
       "      <td>1984</td>\n",
       "      <td>Dancing</td>\n",
       "      <td>83</td>\n",
       "      <td>3.0</td>\n",
       "    </tr>\n",
       "    <tr>\n",
       "      <th>London</th>\n",
       "      <th>charles</th>\n",
       "      <td>1992</td>\n",
       "      <td>NaN</td>\n",
       "      <td>112</td>\n",
       "      <td>0.0</td>\n",
       "    </tr>\n",
       "  </tbody>\n",
       "</table>\n",
       "</div>"
      ],
      "text/plain": [
       "                  public          private         \n",
       "               birthyear    hobby  weight children\n",
       "Paris  alice        1985   Biking      68      NaN\n",
       "       bob          1984  Dancing      83      3.0\n",
       "London charles      1992      NaN     112      0.0"
      ]
     },
     "execution_count": 123,
     "metadata": {},
     "output_type": "execute_result"
    }
   ],
   "source": [
    "joan_d5"
   ]
  },
  {
   "cell_type": "code",
   "execution_count": 124,
   "id": "f16d4fb5",
   "metadata": {},
   "outputs": [
    {
     "data": {
      "text/html": [
       "<div>\n",
       "<style scoped>\n",
       "    .dataframe tbody tr th:only-of-type {\n",
       "        vertical-align: middle;\n",
       "    }\n",
       "\n",
       "    .dataframe tbody tr th {\n",
       "        vertical-align: top;\n",
       "    }\n",
       "\n",
       "    .dataframe thead tr th {\n",
       "        text-align: left;\n",
       "    }\n",
       "</style>\n",
       "<table border=\"1\" class=\"dataframe\">\n",
       "  <thead>\n",
       "    <tr>\n",
       "      <th></th>\n",
       "      <th></th>\n",
       "      <th colspan=\"2\" halign=\"left\">Paris</th>\n",
       "      <th>London</th>\n",
       "    </tr>\n",
       "    <tr>\n",
       "      <th></th>\n",
       "      <th></th>\n",
       "      <th>alice</th>\n",
       "      <th>bob</th>\n",
       "      <th>charles</th>\n",
       "    </tr>\n",
       "  </thead>\n",
       "  <tbody>\n",
       "    <tr>\n",
       "      <th rowspan=\"2\" valign=\"top\">public</th>\n",
       "      <th>birthyear</th>\n",
       "      <td>1985</td>\n",
       "      <td>1984</td>\n",
       "      <td>1992</td>\n",
       "    </tr>\n",
       "    <tr>\n",
       "      <th>hobby</th>\n",
       "      <td>Biking</td>\n",
       "      <td>Dancing</td>\n",
       "      <td>NaN</td>\n",
       "    </tr>\n",
       "    <tr>\n",
       "      <th rowspan=\"2\" valign=\"top\">private</th>\n",
       "      <th>weight</th>\n",
       "      <td>68</td>\n",
       "      <td>83</td>\n",
       "      <td>112</td>\n",
       "    </tr>\n",
       "    <tr>\n",
       "      <th>children</th>\n",
       "      <td>NaN</td>\n",
       "      <td>3.0</td>\n",
       "      <td>0.0</td>\n",
       "    </tr>\n",
       "  </tbody>\n",
       "</table>\n",
       "</div>"
      ],
      "text/plain": [
       "                    Paris           London\n",
       "                    alice      bob charles\n",
       "public  birthyear    1985     1984    1992\n",
       "        hobby      Biking  Dancing     NaN\n",
       "private weight         68       83     112\n",
       "        children      NaN      3.0     0.0"
      ]
     },
     "execution_count": 124,
     "metadata": {},
     "output_type": "execute_result"
    }
   ],
   "source": [
    "joan_d5.T"
   ]
  },
  {
   "cell_type": "code",
   "execution_count": 125,
   "id": "5f39a1d9",
   "metadata": {},
   "outputs": [
    {
     "data": {
      "text/html": [
       "<div>\n",
       "<style scoped>\n",
       "    .dataframe tbody tr th:only-of-type {\n",
       "        vertical-align: middle;\n",
       "    }\n",
       "\n",
       "    .dataframe tbody tr th {\n",
       "        vertical-align: top;\n",
       "    }\n",
       "\n",
       "    .dataframe thead th {\n",
       "        text-align: right;\n",
       "    }\n",
       "</style>\n",
       "<table border=\"1\" class=\"dataframe\">\n",
       "  <thead>\n",
       "    <tr style=\"text-align: right;\">\n",
       "      <th></th>\n",
       "      <th>birthyear</th>\n",
       "      <th>hobby</th>\n",
       "      <th>weight</th>\n",
       "      <th>children</th>\n",
       "    </tr>\n",
       "  </thead>\n",
       "  <tbody>\n",
       "    <tr>\n",
       "      <th>alice</th>\n",
       "      <td>1985</td>\n",
       "      <td>Biking</td>\n",
       "      <td>68</td>\n",
       "      <td>NaN</td>\n",
       "    </tr>\n",
       "  </tbody>\n",
       "</table>\n",
       "</div>"
      ],
      "text/plain": [
       "       birthyear   hobby  weight  children\n",
       "alice       1985  Biking      68       NaN"
      ]
     },
     "execution_count": 125,
     "metadata": {},
     "output_type": "execute_result"
    }
   ],
   "source": [
    "people = pd.DataFrame({\n",
    "    \"birthyear\": {\"alice\":1985, \"bob\": 1984, \"charles\": 1992},\n",
    "    \"hobby\": {\"alice\":\"Biking\", \"bob\": \"Dancing\"},\n",
    "    \"weight\": {\"alice\":68, \"bob\": 83, \"charles\": 112},\n",
    "    \"children\": {\"bob\": 3, \"charles\": 0}\n",
    "})\n",
    "people\n",
    "\n",
    "people.query(\"birthyear ==1985\")"
   ]
  },
  {
   "cell_type": "markdown",
   "id": "ddd92605",
   "metadata": {},
   "source": [
    "## 5. Operations on dataframes"
   ]
  },
  {
   "cell_type": "code",
   "execution_count": 126,
   "id": "7b6fc208",
   "metadata": {},
   "outputs": [
    {
     "data": {
      "text/html": [
       "<div>\n",
       "<style scoped>\n",
       "    .dataframe tbody tr th:only-of-type {\n",
       "        vertical-align: middle;\n",
       "    }\n",
       "\n",
       "    .dataframe tbody tr th {\n",
       "        vertical-align: top;\n",
       "    }\n",
       "\n",
       "    .dataframe thead th {\n",
       "        text-align: right;\n",
       "    }\n",
       "</style>\n",
       "<table border=\"1\" class=\"dataframe\">\n",
       "  <thead>\n",
       "    <tr style=\"text-align: right;\">\n",
       "      <th></th>\n",
       "      <th>April</th>\n",
       "      <th>Mary</th>\n",
       "      <th>June</th>\n",
       "      <th>July</th>\n",
       "    </tr>\n",
       "  </thead>\n",
       "  <tbody>\n",
       "    <tr>\n",
       "      <th>Jack</th>\n",
       "      <td>100</td>\n",
       "      <td>85</td>\n",
       "      <td>60</td>\n",
       "      <td>90</td>\n",
       "    </tr>\n",
       "    <tr>\n",
       "      <th>May</th>\n",
       "      <td>65</td>\n",
       "      <td>0</td>\n",
       "      <td>45</td>\n",
       "      <td>37</td>\n",
       "    </tr>\n",
       "    <tr>\n",
       "      <th>June</th>\n",
       "      <td>85</td>\n",
       "      <td>100</td>\n",
       "      <td>95</td>\n",
       "      <td>20</td>\n",
       "    </tr>\n",
       "    <tr>\n",
       "      <th>July</th>\n",
       "      <td>25</td>\n",
       "      <td>100</td>\n",
       "      <td>35</td>\n",
       "      <td>100</td>\n",
       "    </tr>\n",
       "  </tbody>\n",
       "</table>\n",
       "</div>"
      ],
      "text/plain": [
       "      April  Mary  June  July\n",
       "Jack    100    85    60    90\n",
       "May      65     0    45    37\n",
       "June     85   100    95    20\n",
       "July     25   100    35   100"
      ]
     },
     "execution_count": 126,
     "metadata": {},
     "output_type": "execute_result"
    }
   ],
   "source": [
    "grade_array = np.array([[100,85,60,90],[65,0,45,37],[85,100,95,20],[25,100,35,100]])\n",
    "joan_grades = pd.DataFrame(grade_array, columns = [\"April\", \"Mary\", \"June\", \"July\"], index = [\"Jack\",\"May\", \"June\", \"July\"])\n",
    "joan_grades"
   ]
  },
  {
   "cell_type": "code",
   "execution_count": 127,
   "id": "df6764f5",
   "metadata": {},
   "outputs": [
    {
     "data": {
      "text/plain": [
       "68.75"
      ]
     },
     "execution_count": 127,
     "metadata": {},
     "output_type": "execute_result"
    }
   ],
   "source": [
    "joan_grades[\"April\"].mean()"
   ]
  },
  {
   "cell_type": "code",
   "execution_count": 128,
   "id": "4277994d",
   "metadata": {},
   "outputs": [
    {
     "data": {
      "text/html": [
       "<div>\n",
       "<style scoped>\n",
       "    .dataframe tbody tr th:only-of-type {\n",
       "        vertical-align: middle;\n",
       "    }\n",
       "\n",
       "    .dataframe tbody tr th {\n",
       "        vertical-align: top;\n",
       "    }\n",
       "\n",
       "    .dataframe thead th {\n",
       "        text-align: right;\n",
       "    }\n",
       "</style>\n",
       "<table border=\"1\" class=\"dataframe\">\n",
       "  <thead>\n",
       "    <tr style=\"text-align: right;\">\n",
       "      <th></th>\n",
       "      <th>April</th>\n",
       "      <th>Mary</th>\n",
       "      <th>June</th>\n",
       "      <th>July</th>\n",
       "    </tr>\n",
       "  </thead>\n",
       "  <tbody>\n",
       "    <tr>\n",
       "      <th>Jack</th>\n",
       "      <td>102.0</td>\n",
       "      <td>86.7</td>\n",
       "      <td>61.2</td>\n",
       "      <td>91.80</td>\n",
       "    </tr>\n",
       "    <tr>\n",
       "      <th>May</th>\n",
       "      <td>66.3</td>\n",
       "      <td>0.0</td>\n",
       "      <td>45.9</td>\n",
       "      <td>37.74</td>\n",
       "    </tr>\n",
       "    <tr>\n",
       "      <th>June</th>\n",
       "      <td>86.7</td>\n",
       "      <td>102.0</td>\n",
       "      <td>96.9</td>\n",
       "      <td>20.40</td>\n",
       "    </tr>\n",
       "    <tr>\n",
       "      <th>July</th>\n",
       "      <td>25.5</td>\n",
       "      <td>102.0</td>\n",
       "      <td>35.7</td>\n",
       "      <td>102.00</td>\n",
       "    </tr>\n",
       "  </tbody>\n",
       "</table>\n",
       "</div>"
      ],
      "text/plain": [
       "      April   Mary  June    July\n",
       "Jack  102.0   86.7  61.2   91.80\n",
       "May    66.3    0.0  45.9   37.74\n",
       "June   86.7  102.0  96.9   20.40\n",
       "July   25.5  102.0  35.7  102.00"
      ]
     },
     "execution_count": 128,
     "metadata": {},
     "output_type": "execute_result"
    }
   ],
   "source": [
    "joan_grades * 1.02"
   ]
  },
  {
   "cell_type": "code",
   "execution_count": 129,
   "id": "3f208f8f",
   "metadata": {},
   "outputs": [
    {
     "data": {
      "text/plain": [
       "Jack     85\n",
       "June    100\n",
       "July    100\n",
       "Name: Mary, dtype: int32"
      ]
     },
     "execution_count": 129,
     "metadata": {},
     "output_type": "execute_result"
    }
   ],
   "source": [
    "joan_grades[\"Mary\"][joan_grades[\"Mary\"]>50]"
   ]
  },
  {
   "cell_type": "code",
   "execution_count": 130,
   "id": "7e6c27c5",
   "metadata": {},
   "outputs": [
    {
     "data": {
      "text/plain": [
       "May    36.75\n",
       "dtype: float64"
      ]
     },
     "execution_count": 130,
     "metadata": {},
     "output_type": "execute_result"
    }
   ],
   "source": [
    "average_grades = joan_grades.mean(axis = 1)\n",
    "failed_students = average_grades[average_grades<50]\n",
    "failed_students"
   ]
  },
  {
   "cell_type": "markdown",
   "id": "0da47bc2",
   "metadata": {},
   "source": [
    "# Exercise 2\n"
   ]
  },
  {
   "cell_type": "markdown",
   "id": "ed2eeee5",
   "metadata": {},
   "source": [
    "## 1 np.functionname"
   ]
  },
  {
   "cell_type": "code",
   "execution_count": 131,
   "id": "0e1c35dc",
   "metadata": {},
   "outputs": [
    {
     "data": {
      "text/plain": [
       "array([[[ 0.,  0.,  0.],\n",
       "        [ 0.,  0.,  0.],\n",
       "        [ 0.,  0.,  0.],\n",
       "        [ 0.,  0.,  0.],\n",
       "        [ 0.,  0.,  0.],\n",
       "        [ 0.,  0.,  0.]],\n",
       "\n",
       "       [[ 0.,  0.,  0.],\n",
       "        [12., 12., 12.],\n",
       "        [24., 24., 24.],\n",
       "        [36., 36., 36.],\n",
       "        [48., 48., 48.],\n",
       "        [60., 60., 60.]]])"
      ]
     },
     "execution_count": 131,
     "metadata": {},
     "output_type": "execute_result"
    }
   ],
   "source": [
    "import numpy as np\n",
    "def my_function_joan(x,y,z):\n",
    "    return 4*x * 3*y\n",
    "\n",
    "np.fromfunction(my_function_joan,(2,6,3))"
   ]
  },
  {
   "cell_type": "markdown",
   "id": "24e56593",
   "metadata": {},
   "source": [
    "## 2 Multi-dimensional arrays"
   ]
  },
  {
   "cell_type": "code",
   "execution_count": 132,
   "id": "69964521",
   "metadata": {},
   "outputs": [
    {
     "data": {
      "text/plain": [
       "array([[ 0,  1,  2,  3,  4,  5,  6,  7,  8,  9, 10, 11],\n",
       "       [12, 13, 14, 15, 16, 17, 18, 19, 20, 21, 22, 23],\n",
       "       [24, 25, 26, 27, 28, 29, 30, 31, 32, 33, 34, 35],\n",
       "       [36, 37, 38, 39, 40, 41, 42, 43, 44, 45, 46, 47]])"
      ]
     },
     "execution_count": 132,
     "metadata": {},
     "output_type": "execute_result"
    }
   ],
   "source": [
    "b = np.arange(48).reshape(4,12)\n",
    "b"
   ]
  },
  {
   "cell_type": "code",
   "execution_count": 133,
   "id": "3ab9230f",
   "metadata": {},
   "outputs": [
    {
     "data": {
      "text/plain": [
       "array([16, 17, 18])"
      ]
     },
     "execution_count": 133,
     "metadata": {},
     "output_type": "execute_result"
    }
   ],
   "source": [
    "r = b[1, 4:7]\n",
    "r"
   ]
  },
  {
   "cell_type": "markdown",
   "id": "3246586c",
   "metadata": {},
   "source": [
    "## 3 Iterating"
   ]
  },
  {
   "cell_type": "code",
   "execution_count": 134,
   "id": "b23c866b",
   "metadata": {},
   "outputs": [
    {
     "name": "stdout",
     "output_type": "stream",
     "text": [
      "[[[ True False False False]\n",
      "  [False False False False]\n",
      "  [False False False False]]\n",
      "\n",
      " [[False False False False]\n",
      "  [False False False False]\n",
      "  [False False False False]]]\n"
     ]
    }
   ],
   "source": [
    "c = np.arange(24).reshape(2, 3, 4)\n",
    "\n",
    "boolean_array = (c == 0)\n",
    "\n",
    "print(boolean_array)"
   ]
  },
  {
   "cell_type": "markdown",
   "id": "f08b844c",
   "metadata": {},
   "source": [
    "## 4 vstack"
   ]
  },
  {
   "cell_type": "code",
   "execution_count": 135,
   "id": "251b5aff",
   "metadata": {},
   "outputs": [
    {
     "data": {
      "text/plain": [
       "array([[1., 1., 1., 1.],\n",
       "       [1., 1., 1., 1.],\n",
       "       [1., 1., 1., 1.],\n",
       "       [2., 2., 2., 2.],\n",
       "       [2., 2., 2., 2.],\n",
       "       [2., 2., 2., 2.],\n",
       "       [2., 2., 2., 2.]])"
      ]
     },
     "execution_count": 135,
     "metadata": {},
     "output_type": "execute_result"
    }
   ],
   "source": [
    "q1 = np.full((3,4), 1.0)\n",
    "q2 = np.full((4,4), 2.0)\n",
    "q3 = np.full((3,4), 3.0)\n",
    "q5_joan = np.vstack((q1,q2))\n",
    "q5_joan"
   ]
  },
  {
   "cell_type": "markdown",
   "id": "f3f51124",
   "metadata": {},
   "source": [
    "## 5 Concatenate"
   ]
  },
  {
   "cell_type": "code",
   "execution_count": 136,
   "id": "2a439c0b",
   "metadata": {},
   "outputs": [
    {
     "data": {
      "text/plain": [
       "array([[1., 1., 1., 1.],\n",
       "       [1., 1., 1., 1.],\n",
       "       [1., 1., 1., 1.],\n",
       "       [3., 3., 3., 3.],\n",
       "       [3., 3., 3., 3.],\n",
       "       [3., 3., 3., 3.]])"
      ]
     },
     "execution_count": 136,
     "metadata": {},
     "output_type": "execute_result"
    }
   ],
   "source": [
    "q8_joan = np.concatenate((q1,q3), axis = 0)\n",
    "q8_joan"
   ]
  },
  {
   "cell_type": "markdown",
   "id": "6c0feaca",
   "metadata": {},
   "source": [
    "## 6 transpose"
   ]
  },
  {
   "cell_type": "code",
   "execution_count": 137,
   "id": "1308361a",
   "metadata": {},
   "outputs": [
    {
     "data": {
      "text/plain": [
       "array([[0., 0., 0., 0., 0., 0., 0.],\n",
       "       [0., 0., 0., 0., 0., 0., 0.]])"
      ]
     },
     "execution_count": 137,
     "metadata": {},
     "output_type": "execute_result"
    }
   ],
   "source": [
    "t_joan = np.zeros((2,7))\n",
    "t_joan"
   ]
  },
  {
   "cell_type": "code",
   "execution_count": 138,
   "id": "7cff4b51",
   "metadata": {},
   "outputs": [
    {
     "data": {
      "text/plain": [
       "array([[0., 0.],\n",
       "       [0., 0.],\n",
       "       [0., 0.],\n",
       "       [0., 0.],\n",
       "       [0., 0.],\n",
       "       [0., 0.],\n",
       "       [0., 0.]])"
      ]
     },
     "execution_count": 138,
     "metadata": {},
     "output_type": "execute_result"
    }
   ],
   "source": [
    "t2 = t_joan.transpose()\n",
    "t2"
   ]
  },
  {
   "cell_type": "markdown",
   "id": "32ddb476",
   "metadata": {},
   "source": [
    "## 7 Matrix Multiplication"
   ]
  },
  {
   "cell_type": "code",
   "execution_count": 139,
   "id": "ce7d0fdf",
   "metadata": {},
   "outputs": [
    {
     "name": "stdout",
     "output_type": "stream",
     "text": [
      "[0 1 2 3 4 5 6 7]\n",
      "[0 1 2 3 4 5 6 7]\n"
     ]
    }
   ],
   "source": [
    "a1 = np.arange(8)\n",
    "a2 = np.arange(8)\n",
    "\n",
    "print(a1)\n",
    "print(a2)"
   ]
  },
  {
   "cell_type": "code",
   "execution_count": 140,
   "id": "3a6b8276",
   "metadata": {},
   "outputs": [
    {
     "name": "stdout",
     "output_type": "stream",
     "text": [
      "[[28 34]\n",
      " [76 98]]\n",
      "(2, 2)\n"
     ]
    }
   ],
   "source": [
    "a1_reshape = a1.reshape(2,4)\n",
    "a2_reshape = a2.reshape(4,2)\n",
    "\n",
    "\n",
    "a3_joan = a1_reshape.dot(a2_reshape)\n",
    "print(a3_joan)\n",
    "print(a3_joan.shape)"
   ]
  },
  {
   "cell_type": "markdown",
   "id": "945db7bb",
   "metadata": {},
   "source": [
    "## 8 Matrix inverse and pseudo-inverse"
   ]
  },
  {
   "cell_type": "code",
   "execution_count": 141,
   "id": "3febd161",
   "metadata": {},
   "outputs": [
    {
     "name": "stdout",
     "output_type": "stream",
     "text": [
      "[[ 0  1  2  3]\n",
      " [ 4  5  6  7]\n",
      " [ 8  9 10 11]\n",
      " [12 13 14 15]]\n",
      "[[ 9.00719925e+14 -4.50359963e+14 -1.80143985e+15  1.35107989e+15]\n",
      " [-2.40191980e+15  2.70215978e+15  1.80143985e+15 -2.10167983e+15]\n",
      " [ 2.10167983e+15 -4.05323966e+15  1.80143985e+15  1.50119988e+14]\n",
      " [-6.00479950e+14  1.80143985e+15 -1.80143985e+15  6.00479950e+14]]\n"
     ]
    }
   ],
   "source": [
    "import numpy.linalg as linalg\n",
    "\n",
    "joan = np.arange(16).reshape(4,4)\n",
    "print(joan)\n",
    "print(linalg.inv(joan))"
   ]
  },
  {
   "cell_type": "markdown",
   "id": "073eaa63",
   "metadata": {},
   "source": [
    "## 9 indentity matrix"
   ]
  },
  {
   "cell_type": "markdown",
   "id": "4a1c927f",
   "metadata": {},
   "source": [
    "Add a cell to create a 4 by 4 identity array."
   ]
  },
  {
   "cell_type": "code",
   "execution_count": 142,
   "id": "32d9771a",
   "metadata": {},
   "outputs": [
    {
     "data": {
      "text/plain": [
       "array([[1., 0., 0., 0.],\n",
       "       [0., 1., 0., 0.],\n",
       "       [0., 0., 1., 0.],\n",
       "       [0., 0., 0., 1.]])"
      ]
     },
     "execution_count": 142,
     "metadata": {},
     "output_type": "execute_result"
    }
   ],
   "source": [
    "np.eye(4)"
   ]
  },
  {
   "cell_type": "markdown",
   "id": "aded23a1",
   "metadata": {},
   "source": [
    "## 10 Determinant"
   ]
  },
  {
   "cell_type": "code",
   "execution_count": 143,
   "id": "d3354c8c",
   "metadata": {},
   "outputs": [
    {
     "data": {
      "text/plain": [
       "0.02623236282750342"
      ]
     },
     "execution_count": 143,
     "metadata": {},
     "output_type": "execute_result"
    }
   ],
   "source": [
    "arr = np.random.rand(3,3)\n",
    "linalg.det(arr)\n"
   ]
  },
  {
   "cell_type": "markdown",
   "id": "5f3e321e",
   "metadata": {},
   "source": [
    "## 11 Eigen Values and eigenvectors\n"
   ]
  },
  {
   "cell_type": "code",
   "execution_count": 144,
   "id": "2b14b022",
   "metadata": {},
   "outputs": [
    {
     "name": "stdout",
     "output_type": "stream",
     "text": [
      "[ 2.17331903 -0.49187234 -0.03196319  0.33023782]\n"
     ]
    }
   ],
   "source": [
    "e_joan = np.random.rand(4,4)\n",
    "eigenvalues,eigenvectors = linalg.eig(e_joan)\n",
    "print(eigenvalues)\n"
   ]
  },
  {
   "cell_type": "code",
   "execution_count": 145,
   "id": "db80015d",
   "metadata": {},
   "outputs": [
    {
     "name": "stdout",
     "output_type": "stream",
     "text": [
      "[[-0.35711764  0.29335731 -0.73713476  0.64604069]\n",
      " [-0.61702093  0.64015655  0.04335905  0.26423095]\n",
      " [-0.57150612 -0.22267077 -0.09762925 -0.67300247]\n",
      " [-0.40636549 -0.67420977  0.66724873  0.24470616]]\n"
     ]
    }
   ],
   "source": [
    "print(eigenvectors)"
   ]
  },
  {
   "cell_type": "markdown",
   "id": "22b8d8b8",
   "metadata": {},
   "source": [
    "## 12 Solving a system of linear scalar equations"
   ]
  },
  {
   "cell_type": "code",
   "execution_count": 146,
   "id": "fe607444",
   "metadata": {},
   "outputs": [
    {
     "data": {
      "text/plain": [
       "array([ 8. , -0.7, -1.2])"
      ]
     },
     "execution_count": 146,
     "metadata": {},
     "output_type": "execute_result"
    }
   ],
   "source": [
    "coeffs = np.array([[2,4,1],[3,8,2],[1,2,3]])\n",
    "depvars = np.array([12,16,3])\n",
    "solution = linalg.solve(coeffs,depvars)\n",
    "solution\n"
   ]
  },
  {
   "cell_type": "code",
   "execution_count": 147,
   "id": "fe3fd523",
   "metadata": {},
   "outputs": [
    {
     "data": {
      "text/plain": [
       "True"
      ]
     },
     "execution_count": 147,
     "metadata": {},
     "output_type": "execute_result"
    }
   ],
   "source": [
    "np.allclose(coeffs.dot(solution),depvars)"
   ]
  },
  {
   "cell_type": "markdown",
   "id": "f5e49eb3",
   "metadata": {},
   "source": [
    "# Exercise 3"
   ]
  },
  {
   "cell_type": "markdown",
   "id": "93e19a68",
   "metadata": {},
   "source": [
    "## 1 Plotting your first graph"
   ]
  },
  {
   "cell_type": "markdown",
   "id": "8837dd43",
   "metadata": {},
   "source": [
    "Add a cell at the end to generate a 2 D graph as follows:\n",
    "x holds 1000 values between -4 and 4\n",
    "z holds 1000 values between -5 and 5\n",
    "y = x^2 + z^3 +6\n",
    "plot x and y\n",
    "name the plot(i.e.set the title) “Ploynomial_firstname” where firstname is your firstname.\n",
    "Give names for the x and y axis.\n"
   ]
  },
  {
   "cell_type": "code",
   "execution_count": 148,
   "id": "b2258ecf",
   "metadata": {},
   "outputs": [
    {
     "data": {
      "image/png": "[encoded data removed]",
      "text/plain": [
       "<Figure size 640x480 with 1 Axes>"
      ]
     },
     "metadata": {},
     "output_type": "display_data"
    }
   ],
   "source": [
    "import numpy as np\n",
    "import matplotlib.pyplot as plt\n",
    "x = np.linspace(-4,4,1000)\n",
    "z = np.linspace(-5,5,1000)\n",
    "y = x*2 + z*3 +6\n",
    "\n",
    "plt.plot(x,y)\n",
    "plt.title(\"Polynomial_joan\")\n",
    "plt.show()"
   ]
  },
  {
   "cell_type": "markdown",
   "id": "8861967e",
   "metadata": {},
   "source": []
  },
  {
   "cell_type": "markdown",
   "id": "b0bba075",
   "metadata": {},
   "source": [
    "## 2 Subplots"
   ]
  },
  {
   "cell_type": "markdown",
   "id": "6a31e627",
   "metadata": {},
   "source": [
    "Add a cell at the end to generate a plot using subplot2grid with the following characteristics:\n",
    "A 4 by 4 grid.\n",
    "\n",
    "\n",
    "On the first row plot the function x^2 in a dashed green line.\n",
    "\n",
    "\n",
    "On the second-row plot two functions, the first function x^3 in yellow color and the second function x^4 spanning three columns in red color.\n",
    "\n",
    "\n",
    "On the third-row plot two functions the first X^6 in a dashed blue color and the second is X=x in magna (pink) color.\n",
    "\n",
    "\n",
    "On the fourth row plot one function^7 spanning all columns in dotted red.\n"
   ]
  },
  {
   "cell_type": "code",
   "execution_count": 149,
   "id": "e751ff00",
   "metadata": {},
   "outputs": [
    {
     "data": {
      "image/png": "[encoded data removed]",
      "text/plain": [
       "<Figure size 640x480 with 6 Axes>"
      ]
     },
     "metadata": {},
     "output_type": "display_data"
    }
   ],
   "source": [
    "import matplotlib.pyplot as plt\n",
    "import numpy as np\n",
    "\n",
    "plt.subplot2grid((4,4),(0,0), colspan = 4)\n",
    "plt.plot(x,x**2, color='green', dashes = [2])\n",
    "\n",
    "plt.subplot2grid((4,4),(1,0), colspan = 1)\n",
    "plt.plot(x,x**3, color = 'yellow')\n",
    "\n",
    "plt.subplot2grid((4,4),(1,1), colspan = 3)\n",
    "plt.plot(x,x**4, color = 'red')\n",
    "\n",
    "plt.subplot2grid((4,4),(2,0), colspan=3)\n",
    "plt.plot(x,x**6, color = 'blue', dashes = [2])\n",
    "\n",
    "plt.subplot2grid((4,4),(2,3))\n",
    "plt.plot(x,x, color = 'magenta')\n",
    "\n",
    "plt.subplot2grid((4,4),(3,0), colspan=4)\n",
    "plt.plot(x, x**7, color = 'red', dashes = [1])\n",
    "\n",
    "plt.show()\n",
    "\n",
    "\n"
   ]
  },
  {
   "cell_type": "markdown",
   "id": "2e178af7",
   "metadata": {},
   "source": [
    "## 3. Drawing text"
   ]
  },
  {
   "cell_type": "code",
   "execution_count": 150,
   "id": "524b1abd",
   "metadata": {},
   "outputs": [
    {
     "data": {
      "image/png": "[encoded data removed]",
      "text/plain": [
       "<Figure size 640x480 with 1 Axes>"
      ]
     },
     "metadata": {},
     "output_type": "display_data"
    }
   ],
   "source": [
    "x = np.linspace(-1.5, 1.5, 30)\n",
    "px = 0.8\n",
    "py = px**2\n",
    "\n",
    "pj = 1.2\n",
    "pr = pj**2\n",
    "\n",
    "plt.plot(x, x**2, \"b-\", px, py, \"ro\")\n",
    "\n",
    "plt.text(0, 1.5, \"Square function\\n$y = x^2$\", fontsize=20, color='blue', horizontalalignment=\"center\")\n",
    "plt.text(px - 0.08, py, \"Beautiful point\", ha=\"right\", weight=\"heavy\")\n",
    "plt.text(px, py, \"x = %0.2f\\ny = %0.2f\"%(px, py), rotation=50, color='gray')\n",
    "\n",
    "\n",
    "plt.plot(x, x**2, \"b-\", pj, pr, \"ro\")\n",
    "plt.text(pj  - 0.08, pr, \"Newpoint_joan\", ha=\"right\", weight=\"heavy\")\n",
    "plt.text(pj, pr, \"x = %0.2f\\ny = %0.2f\"%(pj, pr), rotation=50, color='gray')\n",
    "\n",
    "plt.show()"
   ]
  },
  {
   "cell_type": "markdown",
   "id": "0e3b21e8",
   "metadata": {},
   "source": [
    "## 4. Scatter Plot"
   ]
  },
  {
   "cell_type": "code",
   "execution_count": 151,
   "id": "343ae68f",
   "metadata": {},
   "outputs": [
    {
     "data": {
      "image/png": "[encoded data removed]",
      "text/plain": [
       "<Figure size 640x480 with 1 Axes>"
      ]
     },
     "metadata": {},
     "output_type": "display_data"
    }
   ],
   "source": [
    "from numpy.random import randint\n",
    "x = randint(3,100, size = 300)\n",
    "y = randint(3,100, size = 300)\n",
    "plt.scatter(x, y, c ='pink',alpha=0.6, s=50, edgecolors='pink')\n",
    "plt.show()"
   ]
  }
 ],
 "metadata": {
  "kernelspec": {
   "display_name": "Python 3 (ipykernel)",
   "language": "python",
   "name": "python3"
  },
  "language_info": {
   "codemirror_mode": {
    "name": "ipython",
    "version": 3
   },
   "file_extension": ".py",
   "mimetype": "text/x-python",
   "name": "python",
   "nbconvert_exporter": "python",
   "pygments_lexer": "ipython3",
   "version": "3.11.5"
  }
 },
 "nbformat": 4,
 "nbformat_minor": 5
}
